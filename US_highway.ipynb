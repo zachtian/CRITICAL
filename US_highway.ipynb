{
 "cells": [
  {
   "cell_type": "code",
   "execution_count": null,
   "metadata": {},
   "outputs": [],
   "source": [
    "import pandas as pd\n",
    "\n",
    "# Replace this with the path to your dataset file\n",
    "file_path = '/home/zach/Downloads/Next_Generation_Simulation__NGSIM__Vehicle_Trajectories_and_Supporting_Data_20240213.csv.csv'\n",
    "\n",
    "# Load the dataset\n",
    "df = pd.read_csv(file_path)"
   ]
  }
 ],
 "metadata": {
  "kernelspec": {
   "display_name": "llmav",
   "language": "python",
   "name": "python3"
  },
  "language_info": {
   "name": "python",
   "version": "3.10.13"
  }
 },
 "nbformat": 4,
 "nbformat_minor": 2
}
