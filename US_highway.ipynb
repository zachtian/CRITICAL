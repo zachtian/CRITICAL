{
 "cells": [
  {
   "cell_type": "code",
   "execution_count": 11,
   "metadata": {},
   "outputs": [],
   "source": [
    "import pandas as pd\n",
    "\n",
    "peachtree_df = pd.read_csv('/home/zach/Downloads/NGSIM_Peachtree_Vehicle_Trajectories.csv')\n"
   ]
  },
  {
   "cell_type": "code",
   "execution_count": 9,
   "metadata": {},
   "outputs": [],
   "source": [
    "I_80_df = pd.read_csv('/home/zach/Downloads/I-80.csv')\n",
    "I_80_df['DateTime'] = pd.to_datetime(I_80_df['Global_Time'], unit='ms')"
   ]
  },
  {
   "cell_type": "code",
   "execution_count": 8,
   "metadata": {},
   "outputs": [],
   "source": [
    "US_101_df = pd.read_csv('/home/zach/Downloads/US-101.csv')\n",
    "US_101_df['DateTime'] = pd.to_datetime(US_101_df['Global_Time'], unit='ms')"
   ]
  },
  {
   "cell_type": "code",
   "execution_count": 12,
   "metadata": {},
   "outputs": [],
   "source": [
    "def categorize_vehicle_class(v_class):\n",
    "    return {1: 'Motorcycle', 2: 'Auto', 3: 'Truck'}.get(v_class, 'Unknown')\n",
    "\n",
    "def categorize_movement(v_vel, v_acc, movements, df):\n",
    "    # Define thresholds\n",
    "    aggressive_speed_threshold = df['v_Vel'].quantile(0.75)\n",
    "    defensive_speed_threshold = df['v_Vel'].quantile(0.25)\n",
    "    aggressive_acceleration_threshold = df['v_Acc'].quantile(0.75)\n",
    "    defensive_acceleration_threshold = df['v_Acc'].quantile(0.25)\n",
    "\n",
    "    # Determine driving behavior\n",
    "    if v_vel > aggressive_speed_threshold or v_acc > aggressive_acceleration_threshold or any(m in [2, 3] for m in movements):\n",
    "        return 'Aggressive'\n",
    "    elif v_vel < defensive_speed_threshold and v_acc < defensive_acceleration_threshold:\n",
    "        return 'Defensive'\n",
    "    else:\n",
    "        return 'Regular'"
   ]
  },
  {
   "cell_type": "code",
   "execution_count": 13,
   "metadata": {},
   "outputs": [],
   "source": [
    "import pandas as pd\n",
    "\n",
    "# Assuming 'peachtree_df' is your DataFrame\n",
    "\n",
    "# Convert 'Global_Time' to datetime format\n",
    "peachtree_df['DateTime'] = pd.to_datetime(peachtree_df['Global_Time'], unit='s')\n",
    "\n",
    "# Create a unique identifier for each vehicle by combining 'Vehicle_ID' and the date\n",
    "peachtree_df['Unique_Vehicle_ID'] = peachtree_df['Vehicle_ID'].astype(str) + \"_\" + peachtree_df['DateTime'].dt.date.astype(str)\n",
    "\n",
    "# Now use 'Unique_Vehicle_ID' for further analysis\n",
    "\n",
    "# Calculate mean velocity and acceleration for each unique vehicle\n",
    "vehicle_means = peachtree_df.groupby('Unique_Vehicle_ID').agg({\n",
    "    'v_Vel': 'mean',\n",
    "    'v_Acc': 'mean'\n",
    "}).reset_index()\n",
    "\n",
    "# Extract time and movement for each unique vehicle\n",
    "vehicle_times_movement = peachtree_df.groupby('Unique_Vehicle_ID').agg({\n",
    "    'DateTime': 'mean',\n",
    "    'Movement': lambda x: list(x),\n",
    "    'v_Class': 'first'  # Assuming the first v_Class is representative\n",
    "}).reset_index()\n",
    "\n",
    "# Merge the two DataFrames\n",
    "simplified_df = pd.merge(vehicle_means, vehicle_times_movement, on='Unique_Vehicle_ID')\n",
    "\n",
    "# Determine vehicle type and driving behavior\n",
    "simplified_df['Vehicle_Type'] = simplified_df['v_Class'].apply(categorize_vehicle_class)\n",
    "simplified_df['Driving_Behavior'] = simplified_df.apply(lambda row: categorize_movement(row['v_Vel'], row['v_Acc'], row['Movement'], simplified_df), axis=1)\n",
    "\n",
    "# Group by six-hour blocks for aggregated data\n",
    "simplified_df['SixHourBlock'] = simplified_df['DateTime'].dt.hour // 6 * 6\n",
    "simplified_df['SixHourBlock'] = simplified_df['SixHourBlock'].apply(lambda x: f\"{x:02d}:00\")\n",
    "aggregated_data = simplified_df.groupby('SixHourBlock').agg({\n",
    "    'Vehicle_Type': lambda x: x.value_counts().to_dict(),\n",
    "    'Driving_Behavior': lambda x: x.value_counts().to_dict()\n",
    "}).reset_index()\n",
    "\n",
    "# Save to CSV\n",
    "aggregated_data.to_csv('NGSIM_data.csv', index=False)\n",
    "\n",
    "# Print the aggregated data\n",
    "print(aggregated_data)\n"
   ]
  },
  {
   "cell_type": "code",
   "execution_count": null,
   "metadata": {},
   "outputs": [
    {
     "data": {
      "text/plain": [
       "array([29])"
      ]
     },
     "execution_count": 42,
     "metadata": {},
     "output_type": "execute_result"
    }
   ],
   "source": [
    "peachtree_df[peachtree_df['v_Class'] == 1]['Vehicle_ID'].unique()\n"
   ]
  }
 ],
 "metadata": {
  "kernelspec": {
   "display_name": "llmav",
   "language": "python",
   "name": "python3"
  },
  "language_info": {
   "codemirror_mode": {
    "name": "ipython",
    "version": 3
   },
   "file_extension": ".py",
   "mimetype": "text/x-python",
   "name": "python",
   "nbconvert_exporter": "python",
   "pygments_lexer": "ipython3",
   "version": "3.10.13"
  }
 },
 "nbformat": 4,
 "nbformat_minor": 2
}
